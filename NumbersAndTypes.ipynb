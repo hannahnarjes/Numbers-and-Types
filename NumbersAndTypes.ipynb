{
 "cells": [
  {
   "cell_type": "code",
   "execution_count": 1,
   "id": "3eebc015-ee45-4d1a-a62e-646801d8269a",
   "metadata": {},
   "outputs": [
    {
     "name": "stdout",
     "output_type": "stream",
     "text": [
      "3600\n"
     ]
    }
   ],
   "source": [
    "seconds_in_minute = 60\n",
    "minutes_in_hour = 60\n",
    "\n",
    "seconds_in_hour = seconds_in_minute * minutes_in_hour\n",
    "print(seconds_in_hour)"
   ]
  },
  {
   "cell_type": "code",
   "execution_count": 2,
   "id": "ae45578c-58d1-404d-a5c5-d30f3684351c",
   "metadata": {},
   "outputs": [],
   "source": [
    "seconds_per_hour = seconds_in_hour"
   ]
  },
  {
   "cell_type": "code",
   "execution_count": 3,
   "id": "b89a9bb6-0aa8-4766-9f21-8fcf1d4fd4d9",
   "metadata": {},
   "outputs": [
    {
     "name": "stdout",
     "output_type": "stream",
     "text": [
      "86400\n"
     ]
    }
   ],
   "source": [
    "hours_in_day = 24\n",
    "seconds_per_day = seconds_per_hour * hours_in_day\n",
    "print(seconds_per_day)"
   ]
  },
  {
   "cell_type": "code",
   "execution_count": 4,
   "id": "5c3159aa-3cb8-4691-93a8-0824a8faeb3e",
   "metadata": {},
   "outputs": [],
   "source": [
    "seconds_per_day = seconds_per_hour * hours_in_day"
   ]
  },
  {
   "cell_type": "code",
   "execution_count": 5,
   "id": "10314fe7-346f-46ca-a9ea-45dd74433306",
   "metadata": {},
   "outputs": [
    {
     "name": "stdout",
     "output_type": "stream",
     "text": [
      "24.0\n"
     ]
    }
   ],
   "source": [
    "floating_point_result = seconds_per_day / seconds_per_hour\n",
    "print(floating_point_result)"
   ]
  },
  {
   "cell_type": "code",
   "execution_count": 6,
   "id": "87ee6dc5-cba5-4ae6-a44d-1abf13c24518",
   "metadata": {
    "scrolled": true
   },
   "outputs": [
    {
     "name": "stdout",
     "output_type": "stream",
     "text": [
      "24\n"
     ]
    }
   ],
   "source": [
    "integer_division_result = seconds_per_day // seconds_per_hour\n",
    "print(integer_division_result)"
   ]
  }
 ],
 "metadata": {
  "kernelspec": {
   "display_name": "Python 3 (ipykernel)",
   "language": "python",
   "name": "python3"
  },
  "language_info": {
   "codemirror_mode": {
    "name": "ipython",
    "version": 3
   },
   "file_extension": ".py",
   "mimetype": "text/x-python",
   "name": "python",
   "nbconvert_exporter": "python",
   "pygments_lexer": "ipython3",
   "version": "3.11.7"
  }
 },
 "nbformat": 4,
 "nbformat_minor": 5
}
